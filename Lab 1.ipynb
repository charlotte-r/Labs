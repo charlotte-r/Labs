{
 "cells": [
  {
   "cell_type": "markdown",
   "metadata": {},
   "source": [
    "# Intro to Spatial Data Loading and Wrangling"
   ]
  },
  {
   "cell_type": "markdown",
   "metadata": {},
   "source": [
    "Load the following libraries to get started.\n",
    "```r\n",
    "library(sf)\n",
    "library(dplyr)\n",
    "```\n",
    "Download the Bus Stop Shapefile from https://data.cityofchicago.org/Transportation/CTA-Bus-Stops-Shapefile/pxug-u72f\n",
    "\n",
    "Move it to your Working Directory and load it in R using the st_read function.\n",
    "\n",
    "```r\n",
    "unzip(zipfile = \"CTA_BusStops.zip\")\n",
    "Chi_stops = st_read(dsn = \"CTA_BusStops.shp\")\n",
    "```\n",
    "## Subsetting\n",
    "\n",
    "First we can create a basic plot of the bus stop's geometry. \n",
    "```r\n",
    "plot(Chi_stops)\n",
    "```\n",
    "\n",
    "There are too many stops to be meaningful. To see N/S route stops, we can filter bus stops by northbound direction.\n",
    "\n",
    "```r\n",
    "NB_s = Chi_stops %>% filter(DIR == \"NB\")\n",
    "plot(NB_s$geometry, cex=.5)\n",
    "```"
   ]
  },
  {
   "cell_type": "markdown",
   "metadata": {},
   "source": [
    "## Joins\n",
    "Let's add ridership data from https://data.cityofchicago.org/Transportation/CTA-Ridership-Avg-Weekday-Bus-Stop-Boardings-in-Oc/mq3i-nnqe\n",
    "\n",
    "```r\n",
    "ridership <- read.csv(\"CTA_-_Ridership_-_Avg._Weekday_Bus_Stop_Boardings_in_October_2012.csv\")\n",
    "```\n",
    "\n",
    "To see attributes from both datasets we will do a full join:\n",
    "\n",
    "```r\n",
    "joinstop <- full_join(Chi_stops, ridership, by = c(\"OBJECTID\" = \"stop_id\"))\n",
    "plot(joinstop[\"boardings\"], breaks=\"quantile\")\n",
    "```\n",
    "\n",
    "In the above code, OBJECTID from the shapefile is equivlent to stop_id from the csv, so we select to join by those fields. We plot the data using quantile breaks, and the legend shows that some outliers exist."
   ]
  },
  {
   "cell_type": "markdown",
   "metadata": {},
   "source": [
    "## Buffers\n",
    "When subetting a smaller region, buffers are a useful tool. The distance is set in meters. With this many points, an example such as this does not plot in an inerpretable way. Learning to geometrically subset data with bounding boxes is the next step.\n",
    "\n",
    "```r\n",
    "buf <- st_buffer(joinstop, dist=100)\n",
    "```"
   ]
  },
  {
   "cell_type": "code",
   "execution_count": null,
   "metadata": {},
   "outputs": [],
   "source": []
  }
 ],
 "metadata": {
  "kernelspec": {
   "display_name": "R",
   "language": "R",
   "name": "ir"
  },
  "language_info": {
   "codemirror_mode": "r",
   "file_extension": ".r",
   "mimetype": "text/x-r-source",
   "name": "R",
   "pygments_lexer": "r",
   "version": "3.5.1"
  }
 },
 "nbformat": 4,
 "nbformat_minor": 2
}
